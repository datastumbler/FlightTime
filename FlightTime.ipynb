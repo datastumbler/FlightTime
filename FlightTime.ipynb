{
 "cells": [
  {
   "cell_type": "code",
   "execution_count": 22,
   "metadata": {},
   "outputs": [],
   "source": [
    "# Question:\n",
    "# What is the shortest distance to fly between all fifty States?\n",
    "\n",
    "# I'll be using the dataset: \n",
    "# https://www.kaggle.com/datasets/flashgordon/usa-airport-dataset\n",
    "\n",
    "# Here is some info about the attributes present in the dataset:\n",
    "\n",
    "# Origin_airport: Three letter airport code of the origin airport\n",
    "# Destination_airport: Three letter airport code of the destination airport\n",
    "# Origin_city: Origin city name\n",
    "# Destination_city: Destination city name\n",
    "# Passengers: Number of passengers transported from origin to destination\n",
    "# Seats: Number of seats available on flights from origin to destination\n",
    "# Flights: Number of flights between origin and destination (multiple records for one month, many with flights > 1)\n",
    "# Distance: Distance (to nearest mile) flown between origin and destination\n",
    "# Fly_date: The date (yyyymm) of flight\n",
    "# Origin_population: Origin city's population as reported by US Census\n",
    "# Destination_population: Destination city's population as reported by US Census"
   ]
  },
  {
   "cell_type": "code",
   "execution_count": 39,
   "metadata": {},
   "outputs": [],
   "source": [
    "import pandas as pd\n",
    "import random\n",
    "import numpy as np"
   ]
  },
  {
   "cell_type": "code",
   "execution_count": null,
   "metadata": {},
   "outputs": [],
   "source": [
    "# Let's get the data\n",
    "dfFlights = pd.read_csv(\"Airports2.csv\")\n",
    "\n",
    "# Just to make it easier let's just keep what we need\n",
    "dfFlights = dfFlights[['Origin_city','Destination_city','Distance']].copy()\n",
    "\n",
    "# Drop duplicates\n",
    "dfFlights = dfFlights.drop_duplicates()\n",
    "\n",
    "dfFlights.head(10)\n"
   ]
  },
  {
   "cell_type": "code",
   "execution_count": null,
   "metadata": {},
   "outputs": [],
   "source": [
    "# Now we'll change the city to just have the State instead.\n",
    "# Get the state code list\n",
    "\n",
    "dfFlights[\"Origin_state\"]=''\n",
    "dfFlights[\"Destination_state\"]=''\n",
    "\n",
    "stateLookup = [ ['Alabama','AL'], ['Alaska','AK'], ['Arizona','AZ'], ['Arkansas','AR'], ['California','CA'], ['Colorado','CO'], ['Connecticut','CT'], ['Delaware','DE'], ['District of Columbia','DC'], ['Florida','FL'], ['Georgia','GA'], ['Hawaii','HI'], ['Idaho','ID'], ['Illinois','IL'], ['Indiana','IN'], ['Iowa','IA'], ['Kansas','KS'], ['Kentucky','KY'], ['Louisiana','LA'], ['Maine','ME'], ['Maryland','MD'], ['Massachusetts','MA'], ['Michigan','MI'], ['Minnesota','MN'], ['Mississippi','MS'], ['Missouri','MO'], ['Montana','MT'], ['Nebraska','NE'], ['Nevada','NV'], ['New Hampshire','NH'], ['New Jersey','NJ'], ['New Mexico','NM'], ['New York','NY'], ['North Carolina','NC'], ['North Dakota','ND'], ['Ohio','OH'], ['Oklahoma','OK'], ['Oregon','OR'], ['Pennsylvania','PA'], ['Rhode Island','RI'], ['South Carolina','SC'], ['South Dakota','SD'], ['Tennessee','TN'], ['Texas','TX'], ['Utah','UT'], ['Vermont','VT'], ['Virginia','VA'], ['Washington','WA'], ['West Virginia','WV'], ['Wisconsin','WI'], ['Wyoming','WY'] ]\n",
    "\n",
    "for state in stateLookup:\n",
    "    dfFlights.loc[dfFlights['Origin_city'].str.contains(', ' + state[1]), 'Origin_state'] = state[0]\n",
    "    dfFlights.loc[dfFlights['Destination_city'].str.contains(', ' + state[1]), 'Destination_state'] = state[0]\n",
    "\n",
    "dfFlights.head(10)\n"
   ]
  },
  {
   "cell_type": "code",
   "execution_count": 211,
   "metadata": {},
   "outputs": [],
   "source": [
    "# Pick a random starting airport\n",
    "\n",
    "def LookForRandomPath():\n",
    "\n",
    "    r = random.randrange(0,len(dfFlights)-1)\n",
    "\n",
    "    currentCity = (dfFlights.iloc[r])\n",
    "\n",
    "    statesVisited = []\n",
    "    citiesVisited = []\n",
    "    totalDistance = 0\n",
    "\n",
    "    while len(statesVisited)!=50:\n",
    "\n",
    "        dfPossibleCities = dfFlights[~dfFlights['Destination_state'].isin(statesVisited)]\n",
    "        dfPossibleCities = dfPossibleCities.query(\"Origin_city==@currentCity.Origin_city and Distance!=0\")\n",
    "        \n",
    "        if (len(dfPossibleCities))==0:\n",
    "            return -1,[],[]\n",
    "            \n",
    "        nextCity = dfPossibleCities.sort_values(\"Distance\").iloc[0].Destination_city\n",
    "        nextState = dfPossibleCities.sort_values(\"Distance\").iloc[0].Destination_state\n",
    "        totalDistance += dfPossibleCities.sort_values(\"Distance\").iloc[0].Distance\n",
    "\n",
    "        citiesVisited.append(nextCity)\n",
    "        statesVisited.append(nextState)\n",
    "    \n",
    "    return totalDistance, statesVisited, citiesVisited"
   ]
  },
  {
   "cell_type": "code",
   "execution_count": 219,
   "metadata": {},
   "outputs": [
    {
     "name": "stdout",
     "output_type": "stream",
     "text": [
      "2 34969 ['Illinois', 'Indiana', 'Wisconsin', 'Michigan', 'Iowa', 'Ohio', 'Missouri', 'Minnesota', 'Kentucky', 'Tennessee', 'Pennsylvania', 'Nebraska', 'West Virginia', 'Kansas', 'South Dakota', 'New York', 'Alabama', 'Georgia', 'Arkansas', 'North Carolina', 'Virginia', 'Mississippi', 'North Dakota', 'South Carolina', 'Oklahoma', 'District of Columbia', 'Maryland', 'Delaware', 'Louisiana', 'New Jersey', 'Texas', 'Vermont', 'Connecticut', 'Florida', 'Colorado', 'Massachusetts', 'New Hampshire', 'Rhode Island', 'Wyoming', 'Maine', 'Montana', 'New Mexico', 'Idaho', 'Utah', 'Arizona', 'Nevada', 'Washington', 'Oregon', 'California', 'Alaska']\n",
      "\n"
     ]
    }
   ],
   "source": [
    "\n",
    "best = 100000000\n",
    "tries = 0\n",
    "while True==True:\n",
    "\n",
    "     totalDistance, statesVisited, citiesVisited = LookForRandomPath()\n",
    "     \n",
    "     tries = tries + 1\n",
    "     if tries%500==0:\n",
    "          print(\"Tries:\",tries)\n",
    "\n",
    "     if totalDistance < best and totalDistance!=-1:\n",
    "          print(tries, totalDistance, statesVisited)\n",
    "          best = totalDistance\n",
    "          print(\"\")\n",
    "          #if tries!=-1:\n",
    "          #     for s in statesVisited:\n",
    "          #          print(s)\n"
   ]
  }
 ],
 "metadata": {
  "kernelspec": {
   "display_name": "Python 3.10.5 64-bit",
   "language": "python",
   "name": "python3"
  },
  "language_info": {
   "codemirror_mode": {
    "name": "ipython",
    "version": 3
   },
   "file_extension": ".py",
   "mimetype": "text/x-python",
   "name": "python",
   "nbconvert_exporter": "python",
   "pygments_lexer": "ipython3",
   "version": "3.10.5"
  },
  "orig_nbformat": 4,
  "vscode": {
   "interpreter": {
    "hash": "06da7e5fd58fd08aaa64bc9848de1f82f0c658cc4ee5de96dd35dd31d8ad6847"
   }
  }
 },
 "nbformat": 4,
 "nbformat_minor": 2
}
